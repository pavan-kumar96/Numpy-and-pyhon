{
 "cells": [
  {
   "cell_type": "code",
   "execution_count": 2,
   "metadata": {},
   "outputs": [],
   "source": [
    "import random\n",
    "import numpy as np\n",
    "import collections"
   ]
  },
  {
   "cell_type": "markdown",
   "metadata": {},
   "source": [
    "### 1. Count The Number Of Times Each Value Appears In An Array Of Integers¶"
   ]
  },
  {
   "cell_type": "code",
   "execution_count": 15,
   "metadata": {},
   "outputs": [
    {
     "data": {
      "text/plain": [
       "Counter({0: 7, 1: 6, 3: 4, 2: 3})"
      ]
     },
     "execution_count": 15,
     "metadata": {},
     "output_type": "execute_result"
    }
   ],
   "source": [
    "a = np.random.randint(0,4,20)\n",
    "collections.Counter(a)"
   ]
  },
  {
   "cell_type": "code",
   "execution_count": null,
   "metadata": {},
   "outputs": [],
   "source": [
    "###OR"
   ]
  },
  {
   "cell_type": "code",
   "execution_count": 22,
   "metadata": {},
   "outputs": [
    {
     "data": {
      "text/plain": [
       "{0: 7, 1: 6, 2: 4, 3: 3}"
      ]
     },
     "execution_count": 22,
     "metadata": {},
     "output_type": "execute_result"
    }
   ],
   "source": [
    "a = np.random.randint(0,4,20)\n",
    "unique, counts = np.unique(a, return_counts=True)\n",
    "dict(zip(unique, counts))\n"
   ]
  },
  {
   "cell_type": "markdown",
   "metadata": {},
   "source": [
    "#2. Given 9 Integers. You have to convert them into 3*3 Numpy array using Reshape function."
   ]
  },
  {
   "cell_type": "code",
   "execution_count": 27,
   "metadata": {},
   "outputs": [
    {
     "data": {
      "text/plain": [
       "array([[1., 1., 1.],\n",
       "       [1., 1., 1.],\n",
       "       [1., 1., 1.]])"
      ]
     },
     "execution_count": 27,
     "metadata": {},
     "output_type": "execute_result"
    }
   ],
   "source": [
    "a = np.ones((1,9))\n",
    "np.reshape(a,(3,3))"
   ]
  },
  {
   "cell_type": "markdown",
   "metadata": {},
   "source": [
    "\n",
    "3. How to find the memory size of any array¶"
   ]
  },
  {
   "cell_type": "code",
   "execution_count": 33,
   "metadata": {},
   "outputs": [
    {
     "name": "stdout",
     "output_type": "stream",
     "text": [
      "128 bytes\n"
     ]
    }
   ],
   "source": [
    "a = np.zeros((4,4))\n",
    "memory = a.size * a.itemsize\n",
    "print(memory,\"bytes\")"
   ]
  },
  {
   "cell_type": "markdown",
   "metadata": {},
   "source": [
    "4. Create a 2d array of size 10 by 10 with 1 on the border and 0 inside."
   ]
  },
  {
   "cell_type": "code",
   "execution_count": 40,
   "metadata": {},
   "outputs": [
    {
     "data": {
      "text/plain": [
       "array([[1., 1., 1., 1., 1., 1., 1., 1., 1., 1.],\n",
       "       [1., 0., 0., 0., 0., 0., 0., 0., 0., 1.],\n",
       "       [1., 0., 0., 0., 0., 0., 0., 0., 0., 1.],\n",
       "       [1., 0., 0., 0., 0., 0., 0., 0., 0., 1.],\n",
       "       [1., 0., 0., 0., 0., 0., 0., 0., 0., 1.],\n",
       "       [1., 0., 0., 0., 0., 0., 0., 0., 0., 1.],\n",
       "       [1., 0., 0., 0., 0., 0., 0., 0., 0., 1.],\n",
       "       [1., 0., 0., 0., 0., 0., 0., 0., 0., 1.],\n",
       "       [1., 0., 0., 0., 0., 0., 0., 0., 0., 1.],\n",
       "       [1., 1., 1., 1., 1., 1., 1., 1., 1., 1.]])"
      ]
     },
     "execution_count": 40,
     "metadata": {},
     "output_type": "execute_result"
    }
   ],
   "source": [
    "a = np.ones((10,10))\n",
    "a[1:-1,1:-1] = 0\n",
    "a"
   ]
  },
  {
   "cell_type": "markdown",
   "metadata": {},
   "source": [
    "\n",
    "5.Create a 8x8 matrix and fill it with a checkerboard pattern."
   ]
  },
  {
   "cell_type": "code",
   "execution_count": 63,
   "metadata": {},
   "outputs": [
    {
     "name": "stdout",
     "output_type": "stream",
     "text": [
      "Checkerboard pattern, Where 1 == White, 0 == Black\n",
      "[[0. 1. 0. 1. 0. 1. 0. 1.]\n",
      " [1. 0. 1. 0. 1. 0. 1. 0.]\n",
      " [0. 1. 0. 1. 0. 1. 0. 1.]\n",
      " [1. 0. 1. 0. 1. 0. 1. 0.]\n",
      " [0. 1. 0. 1. 0. 1. 0. 1.]\n",
      " [1. 0. 1. 0. 1. 0. 1. 0.]\n",
      " [0. 1. 0. 1. 0. 1. 0. 1.]\n",
      " [1. 0. 1. 0. 1. 0. 1. 0.]]\n"
     ]
    }
   ],
   "source": [
    "a = np.zeros((8,8))\n",
    "a[1::2,::2] = 1\n",
    "a[::2,1::2] = 1\n",
    "print(\"Checkerboard pattern, Where 1 == White, 0 == Black\")\n",
    "print(a)\n",
    "\n",
    "\n"
   ]
  },
  {
   "cell_type": "markdown",
   "metadata": {},
   "source": [
    "6. Normalize a 5x5 random matrix.\n",
    "normalization formula : ((a-mean(a))/std(a))"
   ]
  },
  {
   "cell_type": "code",
   "execution_count": 66,
   "metadata": {},
   "outputs": [
    {
     "name": "stdout",
     "output_type": "stream",
     "text": [
      "[[ 0.89417953  0.30590352 -1.4589245   1.48245554 -1.4589245 ]\n",
      " [ 1.48245554  0.30590352 -0.28237248 -0.28237248 -1.4589245 ]\n",
      " [-0.28237248 -0.87064849 -0.87064849  0.89417953 -0.28237248]\n",
      " [ 0.30590352 -0.28237248 -0.28237248 -1.4589245   0.30590352]\n",
      " [ 0.89417953  1.48245554 -1.4589245   1.48245554  0.89417953]]\n"
     ]
    }
   ],
   "source": [
    "a = np.random.randint(1,7,(5,5))\n",
    "b = (a- a.mean())/(np.std(a))\n",
    "print(b)"
   ]
  },
  {
   "cell_type": "markdown",
   "metadata": {},
   "source": [
    "7. Given a 1D array in range(0,11), negate all elements which are between 3 and 8, in place.¶"
   ]
  },
  {
   "cell_type": "code",
   "execution_count": 88,
   "metadata": {},
   "outputs": [
    {
     "name": "stdout",
     "output_type": "stream",
     "text": [
      "(array([ 0,  1,  2,  9, 10, 11], dtype=int64),)\n"
     ]
    }
   ],
   "source": [
    "a = np.arange(12)\n",
    "# print(a)\n",
    "m = np.where((a<3) | (a>8))\n",
    "print(m)"
   ]
  },
  {
   "cell_type": "code",
   "execution_count": null,
   "metadata": {},
   "outputs": [],
   "source": [
    "8. How to get the dates of yesterday, today and tomorrow?"
   ]
  },
  {
   "cell_type": "code",
   "execution_count": 104,
   "metadata": {},
   "outputs": [
    {
     "name": "stdout",
     "output_type": "stream",
     "text": [
      "Yesterday 2020-02-13\n",
      "Today 2020-02-14\n",
      "Tomorrow 2020-02-15\n"
     ]
    }
   ],
   "source": [
    "yesterday = np.datetime64(\"today\",\"D\") -np.timedelta64(1,\"D\")\n",
    "print(\"Yesterday\"  ,yesterday)\n",
    "\n",
    "today = np.datetime64(\"today\"      ,\"D\") \n",
    "print(\"Today\",today)\n",
    "Tomorrow = np.datetime64(\"today\"  ,\"D\") +np.timedelta64(1,\"D\")\n",
    "print(\"Tomorrow\",Tomorrow)"
   ]
  },
  {
   "cell_type": "code",
   "execution_count": null,
   "metadata": {},
   "outputs": [],
   "source": [
    "\n",
    "9. Generate two arrays of size 2X4 & 3X3, find difference between them.¶"
   ]
  },
  {
   "cell_type": "code",
   "execution_count": null,
   "metadata": {},
   "outputs": [],
   "source": []
  },
  {
   "cell_type": "code",
   "execution_count": 138,
   "metadata": {},
   "outputs": [
    {
     "ename": "ValueError",
     "evalue": "operands could not be broadcast together with shapes (2,1,4) (3,3) ",
     "output_type": "error",
     "traceback": [
      "\u001b[1;31m---------------------------------------------------------------------------\u001b[0m",
      "\u001b[1;31mValueError\u001b[0m                                Traceback (most recent call last)",
      "\u001b[1;32m<ipython-input-138-7f5646bb581c>\u001b[0m in \u001b[0;36m<module>\u001b[1;34m\u001b[0m\n\u001b[0;32m      1\u001b[0m \u001b[0ma\u001b[0m \u001b[1;33m=\u001b[0m \u001b[0mnp\u001b[0m\u001b[1;33m.\u001b[0m\u001b[0mones\u001b[0m\u001b[1;33m(\u001b[0m\u001b[1;33m(\u001b[0m\u001b[1;36m2\u001b[0m\u001b[1;33m,\u001b[0m\u001b[1;36m4\u001b[0m\u001b[1;33m)\u001b[0m\u001b[1;33m)\u001b[0m\u001b[1;33m\u001b[0m\u001b[1;33m\u001b[0m\u001b[0m\n\u001b[0;32m      2\u001b[0m \u001b[0mb\u001b[0m \u001b[1;33m=\u001b[0m \u001b[0mnp\u001b[0m\u001b[1;33m.\u001b[0m\u001b[0mfull\u001b[0m\u001b[1;33m(\u001b[0m\u001b[1;33m(\u001b[0m\u001b[1;36m3\u001b[0m\u001b[1;33m,\u001b[0m\u001b[1;36m3\u001b[0m\u001b[1;33m)\u001b[0m\u001b[1;33m,\u001b[0m\u001b[1;36m4\u001b[0m\u001b[1;33m)\u001b[0m\u001b[1;33m\u001b[0m\u001b[1;33m\u001b[0m\u001b[0m\n\u001b[1;32m----> 3\u001b[1;33m \u001b[0ma\u001b[0m\u001b[1;33m[\u001b[0m\u001b[1;33m:\u001b[0m\u001b[1;33m,\u001b[0m \u001b[0mnp\u001b[0m\u001b[1;33m.\u001b[0m\u001b[0mnewaxis\u001b[0m\u001b[1;33m]\u001b[0m \u001b[1;33m+\u001b[0m \u001b[0mb\u001b[0m\u001b[1;33m\u001b[0m\u001b[1;33m\u001b[0m\u001b[0m\n\u001b[0m",
      "\u001b[1;31mValueError\u001b[0m: operands could not be broadcast together with shapes (2,1,4) (3,3) "
     ]
    }
   ],
   "source": [
    "a = np.ones((2,4))\n",
    "b = np.full((3,3),4)\n",
    "a[:, np.newaxis] + b\n"
   ]
  },
  {
   "cell_type": "markdown",
   "metadata": {},
   "source": [
    "\n",
    "10. Given 1d array of ['cat','dog','rat'], genrate 100 elements of 1d array consisting of the above 3 value ?\n",
    "['cat','cat',...,'rat','dog','dog','cat'...]"
   ]
  },
  {
   "cell_type": "code",
   "execution_count": 142,
   "metadata": {},
   "outputs": [
    {
     "data": {
      "text/plain": [
       "array(['rat', 'cat', 'rat', 'rat', 'rat', 'cat', 'cat', 'dog', 'cat',\n",
       "       'cat', 'rat', 'cat', 'rat', 'dog', 'dog', 'rat', 'dog', 'cat',\n",
       "       'rat', 'cat', 'rat', 'dog', 'dog', 'cat', 'cat', 'dog', 'rat',\n",
       "       'rat', 'rat', 'rat', 'cat', 'cat', 'dog', 'cat', 'dog', 'cat',\n",
       "       'cat', 'cat', 'cat', 'rat', 'dog', 'dog', 'cat', 'rat', 'rat',\n",
       "       'dog', 'cat', 'rat', 'dog', 'rat', 'cat', 'cat', 'dog', 'rat',\n",
       "       'rat', 'rat', 'cat', 'dog', 'cat', 'rat', 'dog', 'cat', 'rat',\n",
       "       'rat', 'dog', 'cat', 'dog', 'dog', 'rat', 'cat', 'cat', 'cat',\n",
       "       'dog', 'dog', 'cat', 'cat', 'cat', 'rat', 'rat', 'dog', 'rat',\n",
       "       'cat', 'cat', 'rat', 'cat', 'cat', 'dog', 'rat', 'cat', 'dog',\n",
       "       'rat', 'rat', 'dog', 'dog', 'dog', 'rat', 'cat', 'rat', 'dog',\n",
       "       'rat'], dtype='<U3')"
      ]
     },
     "execution_count": 142,
     "metadata": {},
     "output_type": "execute_result"
    }
   ],
   "source": [
    "a = np.random.randint(0,3,100)\n",
    "np.choose(a, choices = ['cat','dog','rat']) \n"
   ]
  },
  {
   "cell_type": "markdown",
   "metadata": {},
   "source": [
    "\n",
    "11. Create a vector of size 10 with values ranging from 0 to 1, both excluded without manually deducing the values"
   ]
  },
  {
   "cell_type": "code",
   "execution_count": 151,
   "metadata": {},
   "outputs": [
    {
     "name": "stdout",
     "output_type": "stream",
     "text": [
      "[0.09090909 0.18181818 0.27272727 0.36363636 0.45454545 0.54545455\n",
      " 0.63636364 0.72727273 0.81818182 0.90909091]\n"
     ]
    }
   ],
   "source": [
    "a = np.linspace(0,1,12)[1:-1]\n",
    "print(a)"
   ]
  },
  {
   "cell_type": "markdown",
   "metadata": {},
   "source": [
    "\n",
    "12. Given a two dimensional array, how to extract unique rows?"
   ]
  },
  {
   "cell_type": "code",
   "execution_count": 166,
   "metadata": {},
   "outputs": [
    {
     "data": {
      "text/plain": [
       "array([[10, 10, 11, 13],\n",
       "       [ 2, 11, 10, 13],\n",
       "       [10, 13,  4, 12],\n",
       "       [13, 12,  1, 15]])"
      ]
     },
     "execution_count": 166,
     "metadata": {},
     "output_type": "execute_result"
    }
   ],
   "source": [
    "a = np.random.randint(1,16,(4,4))\n",
    "np.unique(a, axis = 1)"
   ]
  },
  {
   "cell_type": "markdown",
   "metadata": {},
   "source": [
    "13. Create a structured array with x and y coordinates covering the [0,1]x[0,1] are"
   ]
  },
  {
   "cell_type": "code",
   "execution_count": 186,
   "metadata": {},
   "outputs": [
    {
     "data": {
      "text/plain": [
       "array([((0., 0.),), ((0., 0.),), ((0., 0.),), ((0., 0.),), ((0., 0.),),\n",
       "       ((0., 0.),), ((0., 0.),), ((0., 0.),), ((0., 0.),), ((0., 0.),)],\n",
       "      dtype=[('position', [('x', '<f8'), ('y', '<f8')])])"
      ]
     },
     "execution_count": 186,
     "metadata": {},
     "output_type": "execute_result"
    }
   ],
   "source": [
    "z = np.zeros(10, [ ('position', [ ('x', float, 1),\n",
    "                                   ('y', float, 1)])])\n",
    "z"
   ]
  },
  {
   "cell_type": "markdown",
   "metadata": {},
   "source": [
    "14. How to find the closest value (to a given scalar) in a vector?"
   ]
  },
  {
   "cell_type": "code",
   "execution_count": 188,
   "metadata": {},
   "outputs": [
    {
     "name": "stdout",
     "output_type": "stream",
     "text": [
      "Value to compare:\n",
      "37.698153316646554\n",
      "38\n"
     ]
    }
   ],
   "source": [
    "x = np.arange(100)\n",
    "\n",
    "a = np.random.uniform(0,100)\n",
    "print(\"Value to compare:\")\n",
    "print(a)\n",
    "index = (np.abs(x-a)).argmin()\n",
    "print(x[index])"
   ]
  },
  {
   "cell_type": "code",
   "execution_count": null,
   "metadata": {},
   "outputs": [],
   "source": [
    "15. Consider a random vector with shape (10,2) representing coordinates, find point by point distances. Use euclidian distance."
   ]
  },
  {
   "cell_type": "code",
   "execution_count": 195,
   "metadata": {},
   "outputs": [
    {
     "name": "stdout",
     "output_type": "stream",
     "text": [
      "[[  0.          31.144823    80.04998438  32.75667871  65.\n",
      "   99.2975327   58.83026432  28.42534081  51.07837116  29.06888371]\n",
      " [ 31.144823     0.          49.33558553  20.22374842  34.13209633\n",
      "   69.35416354  53.          22.84731932  51.19570294  27.73084925]\n",
      " [ 80.04998438  49.33558553   0.          61.03277808  22.20360331\n",
      "   21.26029163  82.66196223  66.57326791  87.1148667   71.28113355]\n",
      " [ 32.75667871  20.22374842  61.03277808   0.          40.71854614\n",
      "   82.20097323  33.13608305   6.08276253  31.04834939  10.29563014]\n",
      " [ 65.          34.13209633  22.20360331  40.71854614   0.\n",
      "   43.18564576  60.46486583  46.61544808  65.06919394  50.99019514]\n",
      " [ 99.2975327   69.35416354  21.26029163  82.20097323  43.18564576\n",
      "    0.         103.40696302  87.658428   108.24509227  92.4175308 ]\n",
      " [ 58.83026432  53.          82.66196223  33.13608305  60.46486583\n",
      "  103.40696302   0.          33.24154028  11.40175425  30.46309242]\n",
      " [ 28.42534081  22.84731932  66.57326791   6.08276253  46.61544808\n",
      "   87.658428    33.24154028   0.          29.06888371   5.        ]\n",
      " [ 51.07837116  51.19570294  87.1148667   31.04834939  65.06919394\n",
      "  108.24509227  11.40175425  29.06888371   0.          25.01999201]\n",
      " [ 29.06888371  27.73084925  71.28113355  10.29563014  50.99019514\n",
      "   92.4175308   30.46309242   5.          25.01999201   0.        ]]\n"
     ]
    }
   ],
   "source": [
    "import numpy as np\n",
    "a= np.random.randint(1,100,(10,2))\n",
    "x,y = np.atleast_2d(a[:,0], a[:,1])\n",
    "d = np.sqrt( (x-x.T)**2 + (y-y.T)**2)\n",
    "print(d)\n"
   ]
  },
  {
   "cell_type": "markdown",
   "metadata": {},
   "source": [
    "16. How to sort an array by the nth column?"
   ]
  },
  {
   "cell_type": "code",
   "execution_count": 8,
   "metadata": {},
   "outputs": [
    {
     "name": "stdout",
     "output_type": "stream",
     "text": [
      "[[4 2 1]\n",
      " [4 1 2]\n",
      " [1 2 3]]\n"
     ]
    }
   ],
   "source": [
    "# sort array with regards to nth column\n",
    "arr = np.array([[1,2,3],[4,2,1],[4,1,2]])\n",
    "arr = arr[arr[:,2].argsort()]\n",
    "print(arr)"
   ]
  },
  {
   "cell_type": "code",
   "execution_count": null,
   "metadata": {},
   "outputs": [],
   "source": [
    "7.How to tell if a given 2D array has null columns?"
   ]
  },
  {
   "cell_type": "code",
   "execution_count": 11,
   "metadata": {},
   "outputs": [
    {
     "name": "stdout",
     "output_type": "stream",
     "text": [
      "False\n"
     ]
    }
   ],
   "source": [
    "z = np.random.randint(0,3,(3,10))\n",
    "print((~z.any(axis=0)).any())\n"
   ]
  },
  {
   "cell_type": "markdown",
   "metadata": {},
   "source": [
    "18. Considering a two dimensions array, how to get sum over the last two columns at once?"
   ]
  },
  {
   "cell_type": "code",
   "execution_count": 18,
   "metadata": {},
   "outputs": [
    {
     "name": "stdout",
     "output_type": "stream",
     "text": [
      "591 [[57 88 95 19 48]\n",
      " [31 51 37 84 81]]\n"
     ]
    }
   ],
   "source": [
    "a = np.random.randint(1,100,(5,5))\n",
    "s = np.sum(a[-2:,])\n",
    "b = a[-2:,]\n",
    "print(s,b)"
   ]
  },
  {
   "cell_type": "markdown",
   "metadata": {},
   "source": [
    "\n",
    "19. Given a 2d array of 5X5, increment 1st column by 1, second column by 2, 3rd column by 3 & so on till the last column"
   ]
  },
  {
   "cell_type": "code",
   "execution_count": 40,
   "metadata": {},
   "outputs": [
    {
     "name": "stdout",
     "output_type": "stream",
     "text": [
      "[array([2., 2., 2., 2., 2.]), array([3., 3., 3., 3., 3.]), array([4., 4., 4., 4., 4.]), array([5., 5., 5., 5., 5.]), array([6., 6., 6., 6., 6.])]\n"
     ]
    }
   ],
   "source": [
    "a = np.ones((5,5))\n",
    "# b = a.size[0]\n",
    "c = []\n",
    "for i in range (5):\n",
    "    b = a[i,] + (i+1)\n",
    "    c.append(b)\n",
    "print(c)"
   ]
  },
  {
   "cell_type": "code",
   "execution_count": null,
   "metadata": {},
   "outputs": [],
   "source": [
    "\n",
    "20. Given a 1d array(size 100) of boolean values, identify total number of True in it."
   ]
  },
  {
   "cell_type": "code",
   "execution_count": 53,
   "metadata": {},
   "outputs": [
    {
     "name": "stdout",
     "output_type": "stream",
     "text": [
      "{0: 55, 1: 45}\n"
     ]
    }
   ],
   "source": [
    "a = np.random.randint(0,2,(1,100))\n",
    "unique , counts = np.unique(a, return_counts = True)\n",
    "d  = dict(zip(unique, counts))\n",
    "print(d)"
   ]
  },
  {
   "cell_type": "code",
   "execution_count": null,
   "metadata": {},
   "outputs": [],
   "source": [
    "21.Consider the vector [1, 2, 3, 4, 5], how to build a new vector with 3 consecutive zeros interleaved between each value ?"
   ]
  },
  {
   "cell_type": "code",
   "execution_count": 59,
   "metadata": {},
   "outputs": [
    {
     "name": "stdout",
     "output_type": "stream",
     "text": [
      "[1. 0. 0. 0. 2. 0. 0. 0. 3. 0. 0. 0. 4. 0. 0. 0. 5.]\n"
     ]
    }
   ],
   "source": [
    "a = np.array([1, 2, 3, 4, 5])\n",
    "n = 3\n",
    "b = np.zeros(len(a)+(len(a)-1)*n)\n",
    "b[::n+1] = a\n",
    "print(b)"
   ]
  },
  {
   "cell_type": "code",
   "execution_count": null,
   "metadata": {},
   "outputs": [],
   "source": [
    "22.How to swap two rows of an array ?"
   ]
  },
  {
   "cell_type": "code",
   "execution_count": 72,
   "metadata": {},
   "outputs": [
    {
     "name": "stdout",
     "output_type": "stream",
     "text": [
      "[[ 0  1  2  3  4]\n",
      " [ 5  6  7  8  9]\n",
      " [10 11 12 13 14]\n",
      " [15 16 17 18 19]\n",
      " [20 21 22 23 24]]\n",
      "[[ 5  6  7  8  9]\n",
      " [ 0  1  2  3  4]\n",
      " [10 11 12 13 14]\n",
      " [15 16 17 18 19]\n",
      " [20 21 22 23 24]]\n"
     ]
    }
   ],
   "source": [
    "a= np.arange(25).reshape(5,5)\n",
    "print(a)\n",
    "a[[0,1]] = a[[1,0]]\n",
    "print(a)"
   ]
  },
  {
   "cell_type": "code",
   "execution_count": null,
   "metadata": {},
   "outputs": [],
   "source": [
    "23.How to get the n largest values of an array"
   ]
  },
  {
   "cell_type": "code",
   "execution_count": 79,
   "metadata": {
    "scrolled": true
   },
   "outputs": [
    {
     "name": "stdout",
     "output_type": "stream",
     "text": [
      "[9995 9996 9997 9998 9999]\n",
      "[9998 9996 9997 9999 9995]\n"
     ]
    }
   ],
   "source": [
    "z= np.arange(10000)\n",
    "np.random.shuffle(z)\n",
    "n = 5\n",
    "#slow\n",
    "print(z[np.argsort(z)[-n:]])\n",
    " #fast\n",
    "print(z[np.argpartition(-z,n)[:n]])\n"
   ]
  },
  {
   "cell_type": "markdown",
   "metadata": {},
   "source": [
    "25. How to get index of top two highest value in a 1d array?\n",
    "[2,22,11,-11,33,7,13,872,-23]"
   ]
  },
  {
   "cell_type": "code",
   "execution_count": 5,
   "metadata": {},
   "outputs": [
    {
     "data": {
      "text/plain": [
       "array([ 33, 872])"
      ]
     },
     "execution_count": 5,
     "metadata": {},
     "output_type": "execute_result"
    }
   ],
   "source": [
    "a  = np.array([2,22,11,-11,33,7,13,872,-23])\n",
    "a.sort()\n",
    "a[-2:]"
   ]
  },
  {
   "cell_type": "markdown",
   "metadata": {},
   "source": [
    "\n",
    "24. Given two random arrays of shape 5X5, identify the common elements between them."
   ]
  },
  {
   "cell_type": "code",
   "execution_count": 6,
   "metadata": {},
   "outputs": [
    {
     "name": "stdout",
     "output_type": "stream",
     "text": [
      "[1 2 3 4 5 6 7 8]\n"
     ]
    }
   ],
   "source": [
    "import numpy as np\n",
    "array1 = np.random.randint(0,9,(5,5))\n",
    "array2 = np.random.randint(0,9,(5,5))\n",
    "print(np.intersect1d(array1, array2))"
   ]
  }
 ],
 "metadata": {
  "kernelspec": {
   "display_name": "Python 3",
   "language": "python",
   "name": "python3"
  },
  "language_info": {
   "codemirror_mode": {
    "name": "ipython",
    "version": 3
   },
   "file_extension": ".py",
   "mimetype": "text/x-python",
   "name": "python",
   "nbconvert_exporter": "python",
   "pygments_lexer": "ipython3",
   "version": "3.7.4"
  }
 },
 "nbformat": 4,
 "nbformat_minor": 2
}
