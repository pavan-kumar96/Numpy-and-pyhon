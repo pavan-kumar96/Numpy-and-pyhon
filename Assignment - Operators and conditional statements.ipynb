{
 "cells": [
  {
   "cell_type": "code",
   "execution_count": 18,
   "metadata": {},
   "outputs": [
    {
     "name": "stdout",
     "output_type": "stream",
     "text": [
      "12\n",
      "12\n"
     ]
    },
    {
     "data": {
      "text/plain": [
       "(144, True)"
      ]
     },
     "execution_count": 18,
     "metadata": {},
     "output_type": "execute_result"
    }
   ],
   "source": [
    "def square():\n",
    "    length =int(input())\n",
    "    breadth = int(input())\n",
    "    if length ==  breadth:\n",
    "        return (length**2, True)\n",
    "    else:\n",
    "        return (length*breadth, False)\n",
    "square()"
   ]
  },
  {
   "cell_type": "code",
   "execution_count": 20,
   "metadata": {},
   "outputs": [
    {
     "name": "stdout",
     "output_type": "stream",
     "text": [
      "5\n"
     ]
    },
    {
     "data": {
      "text/plain": [
       "615"
      ]
     },
     "execution_count": 20,
     "metadata": {},
     "output_type": "execute_result"
    }
   ],
   "source": [
    "def integer():\n",
    "    n = input()\n",
    "    n_string = str(n)\n",
    "    return int(n_string)+int(n_string*2)+int(n_string*3)\n",
    "integer()"
   ]
  },
  {
   "cell_type": "code",
   "execution_count": 26,
   "metadata": {},
   "outputs": [
    {
     "data": {
      "text/plain": [
       "22000"
      ]
     },
     "execution_count": 26,
     "metadata": {},
     "output_type": "execute_result"
    }
   ],
   "source": [
    "def company(salary, years):\n",
    "    if years <=5:\n",
    "        return int(salary - (salary*0.12))\n",
    "    else:\n",
    "        return int(salary -(salary*0.24))\n",
    "company(25000,0)\n",
    "        "
   ]
  },
  {
   "cell_type": "code",
   "execution_count": null,
   "metadata": {},
   "outputs": [],
   "source": [
    "a. Below 40 - F\n",
    "\n",
    "    b. 40 to 50 - C\n",
    "\n",
    "    c. 50 to 60 - C+\n",
    "\n",
    "    d. 60 to 70 - B\n",
    "\n",
    "    e. 70 to 80 - B+\n",
    "\n",
    "    f. 80 to 90 - A\n",
    "\n",
    "    g. Above 90 - A+"
   ]
  },
  {
   "cell_type": "code",
   "execution_count": 31,
   "metadata": {},
   "outputs": [
    {
     "name": "stdout",
     "output_type": "stream",
     "text": [
      "67\n",
      "89\n",
      "98\n",
      "98\n",
      "89\n"
     ]
    },
    {
     "data": {
      "text/plain": [
       "('A', 88.2)"
      ]
     },
     "execution_count": 31,
     "metadata": {},
     "output_type": "execute_result"
    }
   ],
   "source": [
    "def grading():\n",
    "    marks =  0\n",
    "    for  i in range(5):\n",
    "        marks+= int(input())\n",
    "    avg = marks/5\n",
    "    if avg < 40:\n",
    "        return (\"F\", avg)\n",
    "    elif avg > 40 and avg < 50:\n",
    "        return (\"C\", avg)\n",
    "    elif avg > 50 and avg < 60:\n",
    "        return (\"C+\", avg) \n",
    "    elif avg > 60 and avg < 70:\n",
    "        return (\"B\", avg)\n",
    "    elif avg > 70 and avg < 80:\n",
    "        return (\"B+\", avg)\n",
    "    elif avg > 80 and avg < 90:\n",
    "        return (\"A\", avg)\n",
    "    elif avg > 90:\n",
    "        return (\"A+\", avg)\n",
    "grading()\n",
    "   "
   ]
  },
  {
   "cell_type": "code",
   "execution_count": 40,
   "metadata": {},
   "outputs": [
    {
     "name": "stdout",
     "output_type": "stream",
     "text": [
      "2020\n"
     ]
    },
    {
     "data": {
      "text/plain": [
       "True"
      ]
     },
     "execution_count": 40,
     "metadata": {},
     "output_type": "execute_result"
    }
   ],
   "source": [
    "def leap_year():\n",
    "    year = int(input())\n",
    "    if year%100 == 0:\n",
    "        if year%400 == 0:\n",
    "            return True\n",
    "        else:\n",
    "            return False\n",
    "    elif year%4 == 0:\n",
    "        return True\n",
    "    else:\n",
    "        return False\n",
    "leap_year()"
   ]
  },
  {
   "cell_type": "code",
   "execution_count": 42,
   "metadata": {},
   "outputs": [
    {
     "name": "stdout",
     "output_type": "stream",
     "text": [
      "dfead\n",
      "dfead\n"
     ]
    }
   ],
   "source": [
    "7.  Enter age, gender ( M or F ), marital status ( Y or N ) and then using the following rules print their place of service.\n",
    "\n",
    "    if an employee is female, then she will work only in urban areas.\n",
    "\n",
    "    if an employee is a male and age is between 20 to 30 and not married then he may work anywhere.\n",
    "\n",
    "    if an employee is a female and age is between 20 to 30 and not married then she may work in urban areas.\n",
    "\n",
    "    if an employee is male and age is between 20 t0 30 and married then he will work in nearby Hometown.\n",
    "\n",
    "    if an employee is female and age is between 20 t0 30 and married then she will work in her husband's city.\n",
    "\n",
    "    And any other input of age should print \"ERROR\"."
   ]
  },
  {
   "cell_type": "code",
   "execution_count": 62,
   "metadata": {},
   "outputs": [
    {
     "data": {
      "text/plain": [
       "'You may work in urban areas.'"
      ]
     },
     "execution_count": 62,
     "metadata": {},
     "output_type": "execute_result"
    }
   ],
   "source": [
    "def location(age, gender, marital_status):\n",
    "    if age <20 and gender == \"F\" and marital_status == \"N\":\n",
    "        return \"You will work only in urban areas\"\n",
    "    elif gender == \"M\" and age >20 and age<30 and marital_status == \"N\":\n",
    "        return \"You may work anywhere.\"\n",
    "    elif gender == \"F\" and age >20 and age<30 and marital_status == \"N\":\n",
    "        return \"You may work in urban areas.\"\n",
    "    elif gender == \"M\" and age >20 and age<30 and marital_status == \"Y\":\n",
    "        return \"You will work in nearby Hometown.\"\n",
    "    elif gender == \"F\" and age >20 and age<30 and marital_status == \"Y\":\n",
    "        return \"You will work in her husband's city.\"\n",
    "    else:\n",
    "        return \"ERROR.\"\n",
    "location(25,\"F\",\"N\")\n",
    "\n",
    "        "
   ]
  },
  {
   "cell_type": "code",
   "execution_count": 75,
   "metadata": {},
   "outputs": [
    {
     "name": "stdout",
     "output_type": "stream",
     "text": [
      "3 4 3\n"
     ]
    },
    {
     "data": {
      "text/plain": [
       "'isosceles'"
      ]
     },
     "execution_count": 75,
     "metadata": {},
     "output_type": "execute_result"
    }
   ],
   "source": [
    "def triangle():\n",
    "    x, y,z = map(int, input().split())\n",
    "    if  x == y== z:\n",
    "        return \"equilateral\"\n",
    "    elif x == y or x== z or y==z:\n",
    "        return \"isosceles\"\n",
    "    else:\n",
    "        return \"scalene\"\n",
    "triangle()\n"
   ]
  },
  {
   "cell_type": "code",
   "execution_count": 77,
   "metadata": {},
   "outputs": [
    {
     "name": "stdout",
     "output_type": "stream",
     "text": [
      "15\n"
     ]
    },
    {
     "data": {
      "text/plain": [
       "1350.0"
      ]
     },
     "execution_count": 77,
     "metadata": {},
     "output_type": "execute_result"
    }
   ],
   "source": [
    "def selling_price():\n",
    "    quantity = int(input())\n",
    "    if (quantity*100) > 1000:\n",
    "        return ((quantity*100) -((quantity*100)*.10))\n",
    "    else:\n",
    "        return (quantity*100)\n",
    "selling_price()\n",
    "    "
   ]
  },
  {
   "cell_type": "code",
   "execution_count": null,
   "metadata": {},
   "outputs": [],
   "source": [
    "from datetime import datetime\n",
    "x = input()\n",
    "y = input()\n",
    "date_format = \"%d/%m/%Y\"\n",
    "a = datetime.strptime(x, date_format)\n",
    "b = datetime.strptime(y, date_format)\n",
    "delta = b - a\n",
    "print(delta.days,\"days\")\n"
   ]
  }
 ],
 "metadata": {
  "kernelspec": {
   "display_name": "Python 3",
   "language": "python",
   "name": "python3"
  },
  "language_info": {
   "codemirror_mode": {
    "name": "ipython",
    "version": 3
   },
   "file_extension": ".py",
   "mimetype": "text/x-python",
   "name": "python",
   "nbconvert_exporter": "python",
   "pygments_lexer": "ipython3",
   "version": "3.7.4"
  }
 },
 "nbformat": 4,
 "nbformat_minor": 2
}
